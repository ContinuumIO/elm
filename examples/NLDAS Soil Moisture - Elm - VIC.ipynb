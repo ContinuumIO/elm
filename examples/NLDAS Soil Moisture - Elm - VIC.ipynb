{
 "cells": [
  {
   "cell_type": "code",
   "execution_count": null,
   "metadata": {},
   "outputs": [],
   "source": [
    "from __future__ import print_function\n",
    "import warnings\n",
    "warnings.simplefilter(action='ignore', category=FutureWarning) # suppress Pandas warning\n",
    "import dill\n",
    "import glob\n",
    "from bokeh.models import WMTSTileSource\n",
    "from holoviews.operation import decimate\n",
    "from holoviews.operation.datashader import aggregate, shade, datashade, dynspread\n",
    "import dask\n",
    "import dask.dataframe as dd\n",
    "import datashader as ds\n",
    "import datashader.transfer_functions as tf\n",
    "import dill\n",
    "import geoviews as gv\n",
    "import holoviews as hv\n",
    "import matplotlib\n",
    "import matplotlib.pyplot as plt\n",
    "import numpy as np\n",
    "import pandas as pd\n",
    "import requests\n",
    "import xarray as xr\n",
    "hv.extension('matplotlib')\n",
    "decimate.max_samples = 1000\n",
    "dynspread.max_px = 20\n",
    "dynspread.threshold = 0.5"
   ]
  },
  {
   "cell_type": "markdown",
   "metadata": {},
   "source": [
    "### Import the NLDAS / VIC script's functions / imports"
   ]
  },
  {
   "cell_type": "code",
   "execution_count": null,
   "metadata": {},
   "outputs": [],
   "source": [
    "from nldas_soil_moisture_ml import *"
   ]
  },
  {
   "cell_type": "markdown",
   "metadata": {},
   "source": [
    "### Getting ready to run this notebook:\n",
    "\n",
    "To run the notebook:\n",
    "* Install the environment with `elm`, `earthio`, `pynio` and `pydap`\n",
    "* Set environment variables for your username and password that allow downloads from [https://hydro1.gesdisc.eosdis.nasa.gov/data/NLDAS/](https://hydro1.gesdisc.eosdis.nasa.gov/data/NLDAS/)\n",
    "* Run the `nldas_soil_moisture_ml.py` script to train/predict for one hour's forecast\n",
    "```\n",
    "conda create --name nldas_py27 -c conda-forge -c  elm -c elm/label/dev -c ioam -c ncar pynio elm earthio pydap\n",
    "source activate nldas_py27\n",
    "export NLDAS_USER=myusername\n",
    "export NLDAS_PASS=mypassword\n",
    "python nldas_soil_moisture_ml.py\n",
    "```\n",
    "and that will create a `dill` file of serialized model outputs and inputs."
   ]
  },
  {
   "cell_type": "code",
   "execution_count": null,
   "metadata": {},
   "outputs": [],
   "source": [
    "model_dumps = glob.glob('2000_01_*dill')[:1]\n",
    "model_dumps"
   ]
  },
  {
   "cell_type": "markdown",
   "metadata": {},
   "source": [
    "### Using `dill.load` to get the latest ML-predicted soil moisture\n",
    "\n",
    "* `last_hour_X`: The `xarray.Dataset` that trained the models one hour ago\n",
    "* `this_hour_X`: The `xarray.Dataset` that was used in prediction for the current time step\n",
    "* `models`:      The trained models from the ensemble of `Pipeline` instances (using `last_hour_X`)\n",
    "* `preds`:       Predictions from `models` based on `this_hour_X`\n",
    "* `models2`:     The trained models based on the a second layer model that was fit to `preds` (using `last_hour_X`) \n",
    "* `preds2`:      Predictions from `models2` based on `this_hour_X`"
   ]
  },
  {
   "cell_type": "code",
   "execution_count": null,
   "metadata": {},
   "outputs": [],
   "source": [
    "last_hour_X, this_hour_X, models, preds, models2, preds2 = dill.load(open('2000_01_01T02_00_00.dill', 'rb'))"
   ]
  },
  {
   "cell_type": "markdown",
   "metadata": {},
   "source": [
    "### `models` and `models` are sorted by Pareto optimal order\n",
    "\n",
    "Multiobjective Pareto sorting *MSE* *R<sup>2</sup>* with bounds checks"
   ]
  },
  {
   "cell_type": "code",
   "execution_count": null,
   "metadata": {},
   "outputs": [],
   "source": [
    "tag, best_layer_0 = models[0]\n",
    "print(best_layer_0.summary, '\\n\\nScore (MSE, R2, bounds check ok):',best_layer_0._score, end='\\n\\n')\n",
    "print('Best Pipeline:\\n\\n', repr(best_layer_0))"
   ]
  },
  {
   "cell_type": "markdown",
   "metadata": {},
   "source": [
    "### Input data - NLDAS Forcing A (FORA)\n",
    "\n",
    "The NLDAS FORA files give the following fields for each hour:\n",
    "\n",
    "```\n",
    "[  \n",
    "    'A_PCP_110_SFC_acc1h',\n",
    "    'PEVAP_110_SFC_acc1h',\n",
    "    'TMP_110_HTGL',\n",
    "    'DSWRF_110_SFC',\n",
    "    'PRES_110_SFC',\n",
    "    'DLWRF_110_SFC',\n",
    "    'V_GRD_110_HTGL',\n",
    "    'SPF_H_110_HTGL',\n",
    "    'U_GRD_110_HTGL',\n",
    "    'CAPE_110_SPDY',\n",
    "]\n",
    "```\n",
    "\n",
    "#### Up to `X_TIME_STEPS` (144 currently) are used to form an input data set\n",
    "\n",
    "Shown below are the raw 144 hourly `DataArray`s loaded from FORA data."
   ]
  },
  {
   "cell_type": "code",
   "execution_count": null,
   "metadata": {
    "scrolled": false
   },
   "outputs": [],
   "source": [
    "variables = tuple(this_hour_X.data_vars)\n",
    "variables[1:10], variables[-10:]"
   ]
  },
  {
   "cell_type": "markdown",
   "metadata": {},
   "source": [
    "### Example of differencing to `xarray.DataArray`s\n",
    "The following cell shows descriptive statistcs calculated after subtracting the last hour's precipitation field from the current hour's precipitation field."
   ]
  },
  {
   "cell_type": "code",
   "execution_count": null,
   "metadata": {},
   "outputs": [],
   "source": [
    "precip_change = this_hour_X.hr_0_A_PCP_110_SFC_acc1h - this_hour_X.hr_1_A_PCP_110_SFC_acc1h\n",
    "precip_change.name = 'Delta Precip kg / m2'\n",
    "precip_change.to_dataframe().describe()"
   ]
  },
  {
   "cell_type": "markdown",
   "metadata": {},
   "source": [
    "### Computing differences and averages of differences in the `Pipeline`s of the ensemble\n",
    "\n",
    "Since soil moisture is a long memory process, it makes sense to include rolling averages and averages of differences as a feature engineering step.  Each `Pipeline` of transformers starts with the `differencing_integrating` function.  \n",
    "\n",
    "`ModifySample` is a wrapper that allows custom functions like `differencing_integrating` to be run inside a `Pipeline`.  Though not done in this example, `ModifySample` could be used here to optimize the keyword arguments to `differencing_integrating`."
   ]
  },
  {
   "cell_type": "code",
   "execution_count": null,
   "metadata": {},
   "outputs": [],
   "source": [
    "label, diff = diff_in_time\n",
    "diff_in_time"
   ]
  },
  {
   "cell_type": "code",
   "execution_count": null,
   "metadata": {},
   "outputs": [],
   "source": [
    "diffs_avg_instant,_, _ = diff.fit_transform(last_hour_X)"
   ]
  },
  {
   "cell_type": "code",
   "execution_count": null,
   "metadata": {},
   "outputs": [],
   "source": [
    "new_vars = tuple(diffs_avg_instant.data_vars)\n",
    "[name for name in new_vars if name.startswith('diff_')][:24]"
   ]
  },
  {
   "cell_type": "markdown",
   "metadata": {},
   "source": [
    "### `preds`, the predictions from the first layer ensemble, are now sorted from best model's prediction to worst"
   ]
  },
  {
   "cell_type": "code",
   "execution_count": null,
   "metadata": {},
   "outputs": [],
   "source": [
    "best_layer_0_pred = preds[0]\n",
    "best_layer_0_pred"
   ]
  },
  {
   "cell_type": "markdown",
   "metadata": {},
   "source": [
    "### `preds2` are sorted from best to worst model output in the second layer of models"
   ]
  },
  {
   "cell_type": "code",
   "execution_count": null,
   "metadata": {},
   "outputs": [],
   "source": [
    "best_layer_1_pred = preds2[0]"
   ]
  },
  {
   "cell_type": "markdown",
   "metadata": {},
   "source": [
    "#### Comparing VIC and ML predicted soil moisture in the second layer of models"
   ]
  },
  {
   "cell_type": "code",
   "execution_count": null,
   "metadata": {},
   "outputs": [],
   "source": [
    "residuals_soil_moisture = best_layer_1_pred.predict - this_hour_X.SOIL_M_110_DBLY\n",
    "residuals_soil_moisture.name = 'Soil Moisture Residuals: Elm - VIC (kg / m2)'\n",
    "df0 = this_hour_X.SOIL_M_110_DBLY.to_dataframe()\n",
    "df2 = residuals_soil_moisture.to_dataframe()\n",
    "df1 = best_layer_1_pred.predict.to_dataframe()\n",
    "joined = df0.join(df1).join(df2)\n",
    "joined.columns = ['VIC Soil Moisture (kg / m2)', 'Elm Soil Moisture (kg / m2)', residuals_soil_moisture.name]\n",
    "joined.describe()"
   ]
  },
  {
   "cell_type": "markdown",
   "metadata": {},
   "source": [
    "### Comparing VIC and ML predicted soil moisture in the first layer of models\n",
    "#### The best of the first layer models"
   ]
  },
  {
   "cell_type": "code",
   "execution_count": null,
   "metadata": {},
   "outputs": [],
   "source": [
    "p0 = preds[0]\n",
    "resids = p0.predict - this_hour_X.SOIL_M_110_DBLY\n",
    "resids.name = 'Best of First Layer Models'\n",
    "resids.to_dataframe().describe()"
   ]
  },
  {
   "cell_type": "markdown",
   "metadata": {},
   "source": [
    "#### The second best of the first layer models"
   ]
  },
  {
   "cell_type": "code",
   "execution_count": null,
   "metadata": {},
   "outputs": [],
   "source": [
    "p1 = preds[1]\n",
    "resids = p1.predict - this_hour_X.SOIL_M_110_DBLY\n",
    "resids.name = 'Best of First Layer Models'\n",
    "resids.to_dataframe().describe()"
   ]
  },
  {
   "cell_type": "markdown",
   "metadata": {},
   "source": [
    "### Using `holoviews` to visualize `xarray.DataArray` predictions"
   ]
  },
  {
   "cell_type": "code",
   "execution_count": null,
   "metadata": {},
   "outputs": [],
   "source": [
    "%%opts Image [width=500 height=400]\n",
    "%opts Image (cmap='viridis')\n",
    "ds = hv.Dataset(preds2[0],\n",
    "                kdims=['lon_110', 'lat_110'], vdims=['predict'])\n",
    "elm = ds.to(hv.Image, ['lon_110', 'lat_110'], group='Elm Hierarchical Model').hist(bin_range=(-50, 450))\n",
    "\n",
    "ds = hv.Dataset(this_hour_X,\n",
    "                kdims=['lon_110', 'lat_110'], vdims=['SOIL_M_110_DBLY'])\n",
    "vic = ds.to(hv.Image, ['lon_110', 'lat_110'], group='VIC Soil Moisture (kg / m2)').hist(bin_range=(-50, 450))\n",
    "\n",
    "color_range = vic.range('SOIL_M_110_DBLY')\n",
    "(elm + vic).redim.range(hv.Image, predict=color_range, SOIL_M_110_DBLY=color_range)"
   ]
  },
  {
   "cell_type": "markdown",
   "metadata": {},
   "source": [
    "### Another `holoviews` example - Visualizing the NLDAS FORA data for one hour"
   ]
  },
  {
   "cell_type": "code",
   "execution_count": null,
   "metadata": {},
   "outputs": [],
   "source": [
    "i = []\n",
    "for col in DIFFERENCE_COLS:\n",
    "    current = this_hour_X['hr_0_' + col]\n",
    "    img = hv.Image(current, group=col)\n",
    "    i.append(img)\n",
    "print('NLDAS FORA Datasets used for each hour({}):'.format(len(i)),'\\n\\t', '\\n\\t'.join(DIFFERENCE_COLS), sep='')"
   ]
  },
  {
   "cell_type": "code",
   "execution_count": null,
   "metadata": {},
   "outputs": [],
   "source": [
    "%%opts Layout [tabs=True]\n",
    "%%opts Image [width=500 height=400]\n",
    "%opts Image (cmap='viridis')\n",
    "i[0] + i[1] + i[2] + i[3] + i[4] + i[5] + i[6] + i[7] + i[8] + i[9]"
   ]
  },
  {
   "cell_type": "code",
   "execution_count": null,
   "metadata": {},
   "outputs": [],
   "source": []
  }
 ],
 "metadata": {
  "kernelspec": {
   "display_name": "Python 2",
   "language": "python",
   "name": "python2"
  },
  "language_info": {
   "codemirror_mode": {
    "name": "ipython",
    "version": 2
   },
   "file_extension": ".py",
   "mimetype": "text/x-python",
   "name": "python",
   "nbconvert_exporter": "python",
   "pygments_lexer": "ipython2",
   "version": "2.7.14"
  }
 },
 "nbformat": 4,
 "nbformat_minor": 2
}
